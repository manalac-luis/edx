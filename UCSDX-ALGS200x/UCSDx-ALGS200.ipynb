{
 "cells": [
  {
   "cell_type": "markdown",
   "metadata": {
    "collapsed": true
   },
   "source": [
    "UCSDx ALGS200 Notebook"
   ]
  },
  {
   "cell_type": "code",
   "execution_count": 1,
   "metadata": {},
   "outputs": [
    {
     "name": "stdout",
     "output_type": "stream",
     "text": [
      "Overwriting pc01.py\n"
     ]
    }
   ],
   "source": [
    "%%file pc01.py\n",
    "#Programming Challenge 1\n",
    "# Uses python3\n",
    "# There are two ways of running this program:\n",
    "# 1. Run\n",
    "#     python3 APlusB.py\n",
    "# then enter two numbers and press ctrl-d/ctrl-z\n",
    "# 2. Save two numbers to a file -- say, dataset.txt.\n",
    "# Then run\n",
    "#     python3 APlusB.py < dataset.txt\n",
    "import sys\n",
    "\n",
    "input = sys.stdin.read()\n",
    "tokens = input.split()\n",
    "a = int(tokens[0])\n",
    "b = int(tokens[1])\n",
    "print(a + b)"
   ]
  },
  {
   "cell_type": "code",
   "execution_count": null,
   "metadata": {},
   "outputs": [],
   "source": [
    "\n",
    "#Programming Challenge 2\n",
    "# Uses python3\n",
    "n = int(input())\n",
    "a = [int(x) for x in input().split()]\n",
    "assert(len(a) == n)\n",
    "\n",
    "result = 0\n",
    "highest = 0\n",
    "second  = 0\n",
    "\n",
    "for i in range(0, n):\n",
    "    if (a[i]>=highest):\n",
    "        second = highest\n",
    "        highest = a[i]\n",
    "    elif (a[i]>=second):\n",
    "        second = a[i]\n",
    "#print(\"Highest\", highest)\n",
    "#print(\"Second \", second)\n",
    "result = highest * second\n",
    "print(result)\n"
   ]
  },
  {
   "cell_type": "code",
   "execution_count": 10,
   "metadata": {},
   "outputs": [
    {
     "name": "stdout",
     "output_type": "stream",
     "text": [
      "23\n",
      "28657\n"
     ]
    }
   ],
   "source": [
    "# PC0201\n",
    "# Uses python3\n",
    "#too slow\n",
    "def calc_fib_slow(n):\n",
    "    if (n <= 1):\n",
    "        return n\n",
    "\n",
    "    return calc_fib(n - 1) + calc_fib(n - 2)\n",
    "\n",
    "def calc_fib(n):\n",
    "    if (n<=1):\n",
    "        return n\n",
    "    else:\n",
    "        fib = [0,1]\n",
    "        for i in range(2,n+1):\n",
    "            #print(i)\n",
    "            fib.append(fib[i-2]+fib[i-1])\n",
    "        #print(fib)\n",
    "        return (fib[n])\n",
    "    \n",
    "n = int(input())\n",
    "print(calc_fib(n))\n",
    "\n"
   ]
  },
  {
   "cell_type": "code",
   "execution_count": 15,
   "metadata": {},
   "outputs": [
    {
     "name": "stdout",
     "output_type": "stream",
     "text": [
      "10\n",
      "5\n"
     ]
    }
   ],
   "source": [
    "# Uses python3\n",
    "#PC0202\n",
    "#import sys\n",
    "\n",
    "def get_fibonacci_last_digit_naive(n):\n",
    "    if n <= 1:\n",
    "        return n\n",
    "\n",
    "    previous = 0\n",
    "    current  = 1\n",
    "\n",
    "    for _ in range(n - 1):\n",
    "        previous, current = current, previous + current\n",
    "\n",
    "    return current % 10\n",
    "\n",
    "def get_fibonacci_last_digit(n):\n",
    "    if n <= 1:\n",
    "        return n\n",
    "\n",
    "    previous = 0\n",
    "    current  = 1\n",
    "\n",
    "    for _ in range(n - 1):\n",
    "        previous, current = current, (previous + current) % 10\n",
    "\n",
    "    return current % 10\n",
    "n = int(input())\n",
    "print(get_fibonacci_last_digit(n))\n"
   ]
  },
  {
   "cell_type": "code",
   "execution_count": 9,
   "metadata": {},
   "outputs": [
    {
     "name": "stdout",
     "output_type": "stream",
     "text": [
      "300\n",
      "60\n",
      "60\n"
     ]
    }
   ],
   "source": [
    "# Uses python3\n",
    "# pc0203\n",
    "import sys\n",
    "\n",
    "def gcd_naive(a, b):\n",
    "    current_gcd = 1\n",
    "    for d in range(2, min(a, b) + 1):\n",
    "        if a % d == 0 and b % d == 0:\n",
    "            if d > current_gcd:\n",
    "                current_gcd = d\n",
    "\n",
    "    return current_gcd\n",
    "\n",
    "def gcd(a, b):\n",
    "    if (b==0):\n",
    "        return a\n",
    "    else :\n",
    "        aprime  = a % b\n",
    "        return gcd(b,aprime)\n",
    "\n",
    "\n",
    "\n",
    "\n",
    "\n",
    "\n",
    "\n",
    "#if __name__ == \"__main__\":\n",
    "#    input = sys.stdin.read()\n",
    "#    a, b = map(int, input.split())\n",
    "a = int(input())\n",
    "b = int(input())\n",
    "#print(gcd_naive(a, b))\n",
    "print(gcd(a, b))"
   ]
  },
  {
   "cell_type": "code",
   "execution_count": 20,
   "metadata": {},
   "outputs": [
    {
     "name": "stdout",
     "output_type": "stream",
     "text": [
      "226553150\n",
      "1023473145\n",
      "46374212988031350\n"
     ]
    }
   ],
   "source": [
    "# Uses python3\n",
    "#pc0204\n",
    "import sys\n",
    "\n",
    "def lcm_naive(a, b):\n",
    "    for l in range(1, a*b + 1):\n",
    "        if l % a == 0 and l % b == 0:\n",
    "            return l\n",
    "\n",
    "    return a*b\n",
    "\n",
    "def gcd(a, b):\n",
    "    if (b==0):\n",
    "        return a\n",
    "    else :\n",
    "        aprime  = a % b\n",
    "        return gcd(b,aprime)\n",
    "\n",
    "\n",
    "#The least common multiple (lcm) of a and b is their product divided \n",
    "#by their greatest common divisor (gcd) ( i.e. lcm(a, b) = ab/gcd(a,b)).\n",
    "\n",
    "def lcm(a,b):\n",
    "        return (((a*b)//gcd(a,b)))\n",
    "\n",
    "#if __name__ == '__main__':\n",
    "#    input = sys.stdin.read()\n",
    "#    a, b = map(int, input.split())\n",
    "#    print(lcm_naive(a, b))\n",
    "a = int(input())\n",
    "b = int(input())\n",
    "#print(gcd_naive(a, b))\n",
    "print(lcm(a, b))"
   ]
  },
  {
   "cell_type": "code",
   "execution_count": 27,
   "metadata": {},
   "outputs": [
    {
     "name": "stdout",
     "output_type": "stream",
     "text": [
      "997\n",
      "102\n"
     ]
    }
   ],
   "source": [
    "# Uses python3\n",
    "# pc0301\n",
    "import sys\n",
    "\n",
    "def get_change(m):\n",
    "    tens = m // 10\n",
    "    fives = (m - tens*10) // 5\n",
    "    ones  = m - tens*10 - fives*5\n",
    "    #write your code here\n",
    "    return tens+fives+ones\n",
    "\n",
    "#if __name__ == '__main__':\n",
    "#    m = int(sys.stdin.read())\n",
    "#    print(get_change(m))\n",
    "\n",
    "m = int(input())\n",
    "print(get_change(m))\n"
   ]
  },
  {
   "cell_type": "code",
   "execution_count": null,
   "metadata": {
    "collapsed": true
   },
   "outputs": [],
   "source": [
    "# Uses python3\n",
    "import sys\n",
    "\n",
    "def get_optimal_value(capacity, weights, values):\n",
    "    value = 0.\n",
    "    # write your code here\n",
    "\n",
    "    return value\n",
    "\n",
    "\n",
    "if __name__ == \"__main__\":\n",
    "    data = list(map(int, sys.stdin.read().split()))\n",
    "    n, capacity = data[0:2]\n",
    "    values = data[2:(2 * n + 2):2]\n",
    "    weights = data[3:(2 * n + 2):2]\n",
    "    opt_value = get_optimal_value(capacity, weights, values)\n",
    "    print(\"{:.10f}\".format(opt_value))\n"
   ]
  }
 ],
 "metadata": {
  "kernelspec": {
   "display_name": "Python 3",
   "language": "python",
   "name": "python3"
  },
  "language_info": {
   "codemirror_mode": {
    "name": "ipython",
    "version": 3
   },
   "file_extension": ".py",
   "mimetype": "text/x-python",
   "name": "python",
   "nbconvert_exporter": "python",
   "pygments_lexer": "ipython3",
   "version": "3.6.2"
  }
 },
 "nbformat": 4,
 "nbformat_minor": 2
}
