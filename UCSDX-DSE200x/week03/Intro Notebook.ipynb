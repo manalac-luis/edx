{
 "cells": [
  {
   "cell_type": "code",
   "execution_count": 1,
   "metadata": {},
   "outputs": [
    {
     "name": "stdout",
     "output_type": "stream",
     "text": [
      "Hello World 2!\n"
     ]
    }
   ],
   "source": [
    "print(\"Hello World 2!\")"
   ]
  },
  {
   "cell_type": "markdown",
   "metadata": {},
   "source": [
    "Below is how we calculate the number of seconds in a leap year"
   ]
  },
  {
   "cell_type": "code",
   "execution_count": 2,
   "metadata": {},
   "outputs": [
    {
     "data": {
      "text/plain": [
       "31622400"
      ]
     },
     "execution_count": 2,
     "metadata": {},
     "output_type": "execute_result"
    }
   ],
   "source": [
    "366*24*60*60"
   ]
  },
  {
   "cell_type": "code",
   "execution_count": 3,
   "metadata": {},
   "outputs": [
    {
     "data": {
      "text/plain": [
       "31.6224"
      ]
     },
     "execution_count": 3,
     "metadata": {},
     "output_type": "execute_result"
    }
   ],
   "source": [
    "_ / 1e6"
   ]
  },
  {
   "cell_type": "code",
   "execution_count": 4,
   "metadata": {},
   "outputs": [
    {
     "data": {
      "text/plain": [
       "31536000"
      ]
     },
     "execution_count": 4,
     "metadata": {},
     "output_type": "execute_result"
    }
   ],
   "source": [
    "365*24*60*60"
   ]
  },
  {
   "cell_type": "code",
   "execution_count": 5,
   "metadata": {},
   "outputs": [
    {
     "data": {
      "text/plain": [
       "31.536"
      ]
     },
     "execution_count": 5,
     "metadata": {},
     "output_type": "execute_result"
    }
   ],
   "source": [
    "_ / 1e6"
   ]
  },
  {
   "cell_type": "code",
   "execution_count": 6,
   "metadata": {},
   "outputs": [
    {
     "name": "stdout",
     "output_type": "stream",
     "text": [
      "7\n"
     ]
    }
   ],
   "source": [
    "# underscore refers to output of previous cell\n",
    "x = 4 + 3\n",
    "print (x)"
   ]
  },
  {
   "cell_type": "markdown",
   "metadata": {},
   "source": [
    "This is a **Latex** equation:\n",
    "\n",
    "$\\int_0^\\infty x^{-\\alpha}$"
   ]
  },
  {
   "cell_type": "code",
   "execution_count": 9,
   "metadata": {},
   "outputs": [
    {
     "data": {
      "text/plain": [
       "[<matplotlib.lines.Line2D at 0x119208390>]"
      ]
     },
     "execution_count": 9,
     "metadata": {},
     "output_type": "execute_result"
    },
    {
     "data": {
      "image/png": "[encoded data removed]",
      "text/plain": [
       "<matplotlib.figure.Figure at 0x119143748>"
      ]
     },
     "metadata": {},
     "output_type": "display_data"
    }
   ],
   "source": [
    "%matplotlib inline\n",
    "from matplotlib.pyplot import plot\n",
    "plot ([0,1,0,1])"
   ]
  },
  {
   "cell_type": "markdown",
   "metadata": {},
   "source": [
    "This is a plot using matplotlib of a vector"
   ]
  },
  {
   "cell_type": "code",
   "execution_count": 10,
   "metadata": {},
   "outputs": [
    {
     "name": "stdout",
     "output_type": "stream",
     "text": [
      "Intro Notebook.ipynb\r\n"
     ]
    }
   ],
   "source": [
    "!ls"
   ]
  },
  {
   "cell_type": "code",
   "execution_count": 11,
   "metadata": {},
   "outputs": [
    {
     "name": "stdout",
     "output_type": "stream",
     "text": [
      "\u001b[34m6.02\u001b[m\u001b[m                  \u001b[34mDocuments\u001b[m\u001b[m             \u001b[34mPublic\u001b[m\u001b[m\r\n",
      "\u001b[34mAmazon Drive\u001b[m\u001b[m          \u001b[34mDownloads\u001b[m\u001b[m             \u001b[34mSites\u001b[m\u001b[m\r\n",
      "\u001b[34mAnacondaProjects\u001b[m\u001b[m      Intro Notebook.ipynb  \u001b[34mVirtualBox VMs\u001b[m\u001b[m\r\n",
      "\u001b[34mAndroidStudioProjects\u001b[m\u001b[m \u001b[34mLibrary\u001b[m\u001b[m               \u001b[34manaconda3\u001b[m\u001b[m\r\n",
      "\u001b[34mApkProjects\u001b[m\u001b[m           \u001b[34mMovies\u001b[m\u001b[m                \u001b[34mnode_modules\u001b[m\u001b[m\r\n",
      "\u001b[34mApplications\u001b[m\u001b[m          \u001b[34mMusic\u001b[m\u001b[m                 package-lock.json\r\n",
      "\u001b[34mDesktop\u001b[m\u001b[m               \u001b[34mPictures\u001b[m\u001b[m              run.py\r\n"
     ]
    }
   ],
   "source": [
    "!ls ~"
   ]
  },
  {
   "cell_type": "code",
   "execution_count": 12,
   "metadata": {},
   "outputs": [
    {
     "name": "stdout",
     "output_type": "stream",
     "text": [
      ".\r\n"
     ]
    }
   ],
   "source": [
    "filename = '.'\n",
    "!echo $filename"
   ]
  },
  {
   "cell_type": "code",
   "execution_count": 13,
   "metadata": {},
   "outputs": [
    {
     "name": "stdout",
     "output_type": "stream",
     "text": [
      "Intro Notebook.ipynb\r\n"
     ]
    }
   ],
   "source": [
    "!ls\n"
   ]
  },
  {
   "cell_type": "code",
   "execution_count": 14,
   "metadata": {},
   "outputs": [
    {
     "name": "stdout",
     "output_type": "stream",
     "text": [
      "{\r\n",
      " \"cells\": [\r\n",
      "  {\r\n"
     ]
    }
   ],
   "source": [
    "!head -n 3 \"Intro Notebook.ipynb\""
   ]
  },
  {
   "cell_type": "code",
   "execution_count": 15,
   "metadata": {},
   "outputs": [
    {
     "name": "stdout",
     "output_type": "stream",
     "text": [
      "head: Intro: No such file or directory\r\n",
      "head: Notebook.ipynb: No such file or directory\r\n"
     ]
    }
   ],
   "source": [
    "filename = \"Intro Notebook.ipynb\"\n",
    "!head -n 3 $filename"
   ]
  },
  {
   "cell_type": "code",
   "execution_count": 16,
   "metadata": {},
   "outputs": [
    {
     "name": "stdout",
     "output_type": "stream",
     "text": [
      "Intro Notebook.ipynb\r\n"
     ]
    }
   ],
   "source": [
    "!echo $filename\n"
   ]
  },
  {
   "cell_type": "code",
   "execution_count": 17,
   "metadata": {},
   "outputs": [
    {
     "name": "stdout",
     "output_type": "stream",
     "text": [
      "Intro Notebook.ipynb\r\n"
     ]
    }
   ],
   "source": [
    "!ls\n"
   ]
  },
  {
   "cell_type": "code",
   "execution_count": 18,
   "metadata": {
    "collapsed": true
   },
   "outputs": [],
   "source": [
    "filename = \"./Intro Notebook.ipynb\""
   ]
  },
  {
   "cell_type": "code",
   "execution_count": 19,
   "metadata": {},
   "outputs": [
    {
     "name": "stdout",
     "output_type": "stream",
     "text": [
      "head: ./Intro: No such file or directory\r\n",
      "head: Notebook.ipynb: No such file or directory\r\n"
     ]
    }
   ],
   "source": [
    "!head -n 3 $filename"
   ]
  },
  {
   "cell_type": "code",
   "execution_count": 20,
   "metadata": {},
   "outputs": [
    {
     "name": "stdout",
     "output_type": "stream",
     "text": [
      "{\r\n",
      " \"cells\": [\r\n",
      "  {\r\n"
     ]
    }
   ],
   "source": [
    "!head -n 3 \"Intro Notebook.ipynb\""
   ]
  },
  {
   "cell_type": "code",
   "execution_count": 21,
   "metadata": {},
   "outputs": [
    {
     "name": "stdout",
     "output_type": "stream",
     "text": [
      "head: filename: No such file or directory\r\n"
     ]
    }
   ],
   "source": [
    "!head -n 3 filename"
   ]
  },
  {
   "cell_type": "code",
   "execution_count": 22,
   "metadata": {},
   "outputs": [
    {
     "name": "stdout",
     "output_type": "stream",
     "text": [
      "Intro Notebook.ipynb\r\n"
     ]
    }
   ],
   "source": [
    "!ls .\n"
   ]
  },
  {
   "cell_type": "code",
   "execution_count": 23,
   "metadata": {
    "collapsed": true
   },
   "outputs": [],
   "source": [
    "filename=\"./Intro Notebook.ipynb\""
   ]
  },
  {
   "cell_type": "code",
   "execution_count": 24,
   "metadata": {},
   "outputs": [
    {
     "name": "stdout",
     "output_type": "stream",
     "text": [
      "./Intro Notebook.ipynb\n"
     ]
    }
   ],
   "source": [
    "print(filename)"
   ]
  },
  {
   "cell_type": "code",
   "execution_count": 25,
   "metadata": {},
   "outputs": [
    {
     "name": "stdout",
     "output_type": "stream",
     "text": [
      "head: ./Intro: No such file or directory\r\n",
      "head: Notebook.ipynb: No such file or directory\r\n"
     ]
    }
   ],
   "source": [
    "!head -n 3 $filename"
   ]
  },
  {
   "cell_type": "code",
   "execution_count": 28,
   "metadata": {
    "collapsed": true
   },
   "outputs": [],
   "source": [
    "filename = \"'./Intro Notebook.ipynb'\"\n"
   ]
  },
  {
   "cell_type": "code",
   "execution_count": 29,
   "metadata": {},
   "outputs": [
    {
     "name": "stdout",
     "output_type": "stream",
     "text": [
      "{\r\n",
      " \"cells\": [\r\n",
      "  {\r\n"
     ]
    }
   ],
   "source": [
    "!head -n 3 $filename"
   ]
  },
  {
   "cell_type": "code",
   "execution_count": 30,
   "metadata": {},
   "outputs": [
    {
     "name": "stdout",
     "output_type": "stream",
     "text": [
      "   \"execution_count\": null,\r\n",
      "   \"metadata\": {\r\n",
      "    \"collapsed\": true\r\n",
      "   },\r\n",
      "   \"outputs\": [],\r\n",
      "   \"source\": []\r\n",
      "  }\r\n",
      " ],\r\n",
      " \"metadata\": {\r\n",
      "  \"kernelspec\": {\r\n",
      "   \"display_name\": \"Python 3\",\r\n",
      "   \"language\": \"python\",\r\n",
      "   \"name\": \"python3\"\r\n",
      "  },\r\n",
      "  \"language_info\": {\r\n",
      "   \"codemirror_mode\": {\r\n",
      "    \"name\": \"ipython\",\r\n",
      "    \"version\": 3\r\n",
      "   },\r\n",
      "   \"file_extension\": \".py\",\r\n",
      "   \"mimetype\": \"text/x-python\",\r\n",
      "   \"name\": \"python\",\r\n",
      "   \"nbconvert_exporter\": \"python\",\r\n",
      "   \"pygments_lexer\": \"ipython3\",\r\n",
      "   \"version\": \"3.6.2\"\r\n",
      "  }\r\n",
      " },\r\n",
      " \"nbformat\": 4,\r\n",
      " \"nbformat_minor\": 2\r\n",
      "}\r\n"
     ]
    }
   ],
   "source": [
    "!tail -n 30 $filename"
   ]
  },
  {
   "cell_type": "code",
   "execution_count": 31,
   "metadata": {},
   "outputs": [
    {
     "name": "stdout",
     "output_type": "stream",
     "text": [
      "     556    1029   27920 ./Intro Notebook.ipynb\r\n"
     ]
    }
   ],
   "source": [
    "!wc $filename"
   ]
  },
  {
   "cell_type": "code",
   "execution_count": 32,
   "metadata": {
    "collapsed": true
   },
   "outputs": [],
   "source": [
    "!grep -i 'jupyter' $filename"
   ]
  },
  {
   "cell_type": "code",
   "execution_count": 33,
   "metadata": {},
   "outputs": [
    {
     "name": "stdout",
     "output_type": "stream",
     "text": [
      "       \"[<matplotlib.lines.Line2D at 0x119208390>]\"\r\n",
      "       \"<matplotlib.figure.Figure at 0x119143748>\"\r\n",
      "    \"%matplotlib inline\\n\",\r\n",
      "    \"from matplotlib.pyplot import plot\\n\",\r\n",
      "    \"plot ([0,1,0,1])\"\r\n",
      "    \"This is a plot using matplotlib of a vector\"\r\n"
     ]
    }
   ],
   "source": [
    "!grep -i 'plot' $filename"
   ]
  },
  {
   "cell_type": "code",
   "execution_count": 34,
   "metadata": {},
   "outputs": [
    {
     "name": "stdout",
     "output_type": "stream",
     "text": [
      "{\r\n",
      " \"cells\": [\r\n",
      "  {\r\n",
      "   \"cell_type\": \"code\",\r\n",
      "   \"execution_count\": 1,\r\n",
      "   \"metadata\": {},\r\n",
      "   \"outputs\": [\r\n",
      "    {\r\n",
      "     \"name\": \"stdout\",\r\n",
      "     \"output_type\": \"stream\",\r\n",
      "     \"text\": [\r\n",
      "      \"Hello World 2!\\n\"\r\n",
      "     ]\r\n",
      "    }\r\n",
      "   ],\r\n",
      "   \"source\": [\r\n",
      "    \"print(\\\"Hello World 2!\\\")\"\r\n",
      "   ]\r\n",
      "  },\r\n",
      "  {\r\n",
      "   \"cell_type\": \"markdown\",\r\n",
      "   \"metadata\": {},\r\n",
      "   \"source\": [\r\n",
      "    \"Below is how we calculate the number of seconds in a leap year\"\r\n",
      "   ]\r\n",
      "  },\r\n",
      "  {\r\n",
      "   \"cell_type\": \"code\",\r\n",
      "   \"execution_count\": 2,\r\n",
      "   \"metadata\": {},\r\n",
      "   \"outputs\": [\r\n",
      "    {\r\n",
      "     \"data\": {\r\n",
      "      \"text/plain\": [\r\n",
      "       \"31622400\"\r\n",
      "      ]\r\n",
      "     },\r\n",
      "     \"execution_count\": 2,\r\n",
      "     \"metadata\": {},\r\n",
      "     \"output_type\": \"execute_result\"\r\n",
      "    }\r\n",
      "   ],\r\n",
      "   \"source\": [\r\n",
      "    \"366*24*60*60\"\r\n",
      "   ]\r\n",
      "  },\r\n",
      "  {\r\n",
      "   \"cell_type\": \"code\",\r\n",
      "   \"execution_count\": 3,\r\n",
      "   \"metadata\": {},\r\n",
      "   \"outputs\": [\r\n",
      "    {\r\n",
      "     \"data\": {\r\n",
      "      \"text/plain\": [\r\n",
      "       \"31.6224\"\r\n",
      "      ]\r\n",
      "     },\r\n",
      "     \"execution_count\": 3,\r\n",
      "     \"metadata\": {},\r\n",
      "     \"output_type\": \"execute_result\"\r\n",
      "    }\r\n",
      "   ],\r\n",
      "   \"source\": [\r\n",
      "    \"_ / 1e6\"\r\n",
      "   ]\r\n",
      "  },\r\n",
      "  {\r\n",
      "   \"cell_type\": \"code\",\r\n",
      "   \"execution_count\": 4,\r\n",
      "   \"metadata\": {},\r\n",
      "   \"outputs\": [\r\n",
      "    {\r\n",
      "     \"data\": {\r\n",
      "      \"text/plain\": [\r\n",
      "       \"31536000\"\r\n",
      "      ]\r\n",
      "     },\r\n",
      "     \"execution_count\": 4,\r\n",
      "     \"metadata\": {},\r\n",
      "     \"output_type\": \"execute_result\"\r\n",
      "    }\r\n",
      "   ],\r\n",
      "   \"source\": [\r\n",
      "    \"365*24*60*60\"\r\n",
      "   ]\r\n",
      "  },\r\n",
      "  {\r\n",
      "   \"cell_type\": \"code\",\r\n",
      "   \"execution_count\": 5,\r\n",
      "   \"metadata\": {},\r\n",
      "   \"outputs\": [\r\n",
      "    {\r\n",
      "     \"data\": {\r\n",
      "      \"text/plain\": [\r\n",
      "       \"31.536\"\r\n",
      "      ]\r\n",
      "     },\r\n",
      "     \"execution_count\": 5,\r\n",
      "     \"metadata\": {},\r\n",
      "     \"output_type\": \"execute_result\"\r\n",
      "    }\r\n",
      "   ],\r\n",
      "   \"source\": [\r\n",
      "    \"_ / 1e6\"\r\n",
      "   ]\r\n",
      "  },\r\n",
      "  {\r\n",
      "   \"cell_type\": \"code\",\r\n",
      "   \"execution_count\": 6,\r\n",
      "   \"metadata\": {},\r\n",
      "   \"outputs\": [\r\n",
      "    {\r\n",
      "     \"name\": \"stdout\",\r\n",
      "     \"output_type\": \"stream\",\r\n",
      "     \"text\": [\r\n",
      "      \"7\\n\"\r\n",
      "     ]\r\n",
      "    }\r\n",
      "   ],\r\n",
      "   \"source\": [\r\n",
      "    \"# underscore refers to output of previous cell\\n\",\r\n",
      "    \"x = 4 + 3\\n\",\r\n",
      "    \"print (x)\"\r\n",
      "   ]\r\n",
      "  },\r\n",
      "  {\r\n",
      "   \"cell_type\": \"markdown\",\r\n",
      "   \"metadata\": {},\r\n",
      "   \"source\": [\r\n",
      "    \"This is a **Latex** equation:\\n\",\r\n",
      "    \"\\n\",\r\n",
      "    \"$\\\\int_0^\\\\infty x^{-\\\\alpha}$\"\r\n",
      "   ]\r\n",
      "  },\r\n",
      "  {\r\n",
      "   \"cell_type\": \"code\",\r\n",
      "   \"execution_count\": 9,\r\n",
      "   \"metadata\": {},\r\n",
      "   \"outputs\": [\r\n",
      "    {\r\n",
      "     \"data\": {\r\n",
      "      \"text/plain\": [\r\n",
      "       \"[<matplotlib.lines.Line2D at 0x119208390>]\"\r\n",
      "      ]\r\n",
      "     },\r\n",
      "     \"execution_count\": 9,\r\n",
      "     \"metadata\": {},\r\n",
      "     \"output_type\": \"execute_result\"\r\n",
      "    },\r\n",
      "    {\r\n",
      "     \"data\": {\r\n",
      "      \"image/png\": \"iVBORw0KGgoAAAANSUhEUgAAAXcAAAD8CAYAAACMwORRAAAABHNCSVQICAgIfAhkiAAAAAlwSFlz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\\nTkSuQmCC\\n\",\r\n",
      "      \"text/plain\": [\r\n",
      "       \"<matplotlib.figure.Figure at 0x119143748>\"\r\n",
      "      ]\r\n",
      "     },\r\n",
      "     \"metadata\": {},\r\n",
      "     \"output_type\": \"display_data\"\r\n",
      "    }\r\n",
      "   ],\r\n",
      "   \"source\": [\r\n",
      "    \"%matplotlib inline\\n\",\r\n",
      "    \"from matplotlib.pyplot import plot\\n\",\r\n",
      "    \"plot ([0,1,0,1])\"\r\n",
      "   ]\r\n",
      "  },\r\n",
      "  {\r\n",
      "   \"cell_type\": \"markdown\",\r\n",
      "   \"metadata\": {},\r\n",
      "   \"source\": [\r\n",
      "    \"This is a plot using matplotlib of a vector\"\r\n",
      "   ]\r\n",
      "  },\r\n",
      "  {\r\n",
      "   \"cell_type\": \"code\",\r\n",
      "   \"execution_count\": 10,\r\n",
      "   \"metadata\": {},\r\n",
      "   \"outputs\": [\r\n",
      "    {\r\n",
      "     \"name\": \"stdout\",\r\n",
      "     \"output_type\": \"stream\",\r\n",
      "     \"text\": [\r\n",
      "      \"Intro Notebook.ipynb\\r\\n\"\r\n",
      "     ]\r\n",
      "    }\r\n",
      "   ],\r\n",
      "   \"source\": [\r\n",
      "    \"!ls\"\r\n",
      "   ]\r\n",
      "  },\r\n",
      "  {\r\n",
      "   \"cell_type\": \"code\",\r\n",
      "   \"execution_count\": 11,\r\n",
      "   \"metadata\": {},\r\n",
      "   \"outputs\": [\r\n",
      "    {\r\n",
      "     \"name\": \"stdout\",\r\n",
      "     \"output_type\": \"stream\",\r\n",
      "     \"text\": [\r\n",
      "      \"\\u001b[34m6.02\\u001b[m\\u001b[m                  \\u001b[34mDocuments\\u001b[m\\u001b[m             \\u001b[34mPublic\\u001b[m\\u001b[m\\r\\n\",\r\n",
      "      \"\\u001b[34mAmazon Drive\\u001b[m\\u001b[m          \\u001b[34mDownloads\\u001b[m\\u001b[m             \\u001b[34mSites\\u001b[m\\u001b[m\\r\\n\",\r\n",
      "      \"\\u001b[34mAnacondaProjects\\u001b[m\\u001b[m      Intro Notebook.ipynb  \\u001b[34mVirtualBox VMs\\u001b[m\\u001b[m\\r\\n\",\r\n",
      "      \"\\u001b[34mAndroidStudioProjects\\u001b[m\\u001b[m \\u001b[34mLibrary\\u001b[m\\u001b[m               \\u001b[34manaconda3\\u001b[m\\u001b[m\\r\\n\",\r\n",
      "      \"\\u001b[34mApkProjects\\u001b[m\\u001b[m           \\u001b[34mMovies\\u001b[m\\u001b[m                \\u001b[34mnode_modules\\u001b[m\\u001b[m\\r\\n\",\r\n",
      "      \"\\u001b[34mApplications\\u001b[m\\u001b[m          \\u001b[34mMusic\\u001b[m\\u001b[m                 package-lock.json\\r\\n\",\r\n",
      "      \"\\u001b[34mDesktop\\u001b[m\\u001b[m               \\u001b[34mPictures\\u001b[m\\u001b[m              run.py\\r\\n\"\r\n",
      "     ]\r\n",
      "    }\r\n",
      "   ],\r\n",
      "   \"source\": [\r\n",
      "    \"!ls ~\"\r\n",
      "   ]\r\n",
      "  },\r\n",
      "  {\r\n",
      "   \"cell_type\": \"code\",\r\n",
      "   \"execution_count\": 12,\r\n",
      "   \"metadata\": {},\r\n",
      "   \"outputs\": [\r\n",
      "    {\r\n",
      "     \"name\": \"stdout\",\r\n",
      "     \"output_type\": \"stream\",\r\n",
      "     \"text\": [\r\n",
      "      \".\\r\\n\"\r\n",
      "     ]\r\n",
      "    }\r\n",
      "   ],\r\n",
      "   \"source\": [\r\n",
      "    \"filename = '.'\\n\",\r\n",
      "    \"!echo $filename\"\r\n",
      "   ]\r\n",
      "  },\r\n",
      "  {\r\n",
      "   \"cell_type\": \"code\",\r\n",
      "   \"execution_count\": 13,\r\n",
      "   \"metadata\": {},\r\n",
      "   \"outputs\": [\r\n",
      "    {\r\n",
      "     \"name\": \"stdout\",\r\n",
      "     \"output_type\": \"stream\",\r\n",
      "     \"text\": [\r\n",
      "      \"Intro Notebook.ipynb\\r\\n\"\r\n",
      "     ]\r\n",
      "    }\r\n",
      "   ],\r\n",
      "   \"source\": [\r\n",
      "    \"!ls\\n\"\r\n",
      "   ]\r\n",
      "  },\r\n",
      "  {\r\n",
      "   \"cell_type\": \"code\",\r\n",
      "   \"execution_count\": 14,\r\n",
      "   \"metadata\": {},\r\n",
      "   \"outputs\": [\r\n",
      "    {\r\n",
      "     \"name\": \"stdout\",\r\n",
      "     \"output_type\": \"stream\",\r\n",
      "     \"text\": [\r\n",
      "      \"{\\r\\n\",\r\n",
      "      \" \\\"cells\\\": [\\r\\n\",\r\n",
      "      \"  {\\r\\n\"\r\n",
      "     ]\r\n",
      "    }\r\n",
      "   ],\r\n",
      "   \"source\": [\r\n",
      "    \"!head -n 3 \\\"Intro Notebook.ipynb\\\"\"\r\n",
      "   ]\r\n",
      "  },\r\n",
      "  {\r\n",
      "   \"cell_type\": \"code\",\r\n",
      "   \"execution_count\": 15,\r\n",
      "   \"metadata\": {},\r\n",
      "   \"outputs\": [\r\n",
      "    {\r\n",
      "     \"name\": \"stdout\",\r\n",
      "     \"output_type\": \"stream\",\r\n",
      "     \"text\": [\r\n",
      "      \"head: Intro: No such file or directory\\r\\n\",\r\n",
      "      \"head: Notebook.ipynb: No such file or directory\\r\\n\"\r\n",
      "     ]\r\n",
      "    }\r\n",
      "   ],\r\n",
      "   \"source\": [\r\n",
      "    \"filename = \\\"Intro Notebook.ipynb\\\"\\n\",\r\n",
      "    \"!head -n 3 $filename\"\r\n",
      "   ]\r\n",
      "  },\r\n",
      "  {\r\n",
      "   \"cell_type\": \"code\",\r\n",
      "   \"execution_count\": 16,\r\n",
      "   \"metadata\": {},\r\n",
      "   \"outputs\": [\r\n",
      "    {\r\n",
      "     \"name\": \"stdout\",\r\n",
      "     \"output_type\": \"stream\",\r\n",
      "     \"text\": [\r\n",
      "      \"Intro Notebook.ipynb\\r\\n\"\r\n",
      "     ]\r\n",
      "    }\r\n",
      "   ],\r\n",
      "   \"source\": [\r\n",
      "    \"!echo $filename\\n\"\r\n",
      "   ]\r\n",
      "  },\r\n",
      "  {\r\n",
      "   \"cell_type\": \"code\",\r\n",
      "   \"execution_count\": 17,\r\n",
      "   \"metadata\": {},\r\n",
      "   \"outputs\": [\r\n",
      "    {\r\n",
      "     \"name\": \"stdout\",\r\n",
      "     \"output_type\": \"stream\",\r\n",
      "     \"text\": [\r\n",
      "      \"Intro Notebook.ipynb\\r\\n\"\r\n",
      "     ]\r\n",
      "    }\r\n",
      "   ],\r\n",
      "   \"source\": [\r\n",
      "    \"!ls\\n\"\r\n",
      "   ]\r\n",
      "  },\r\n",
      "  {\r\n",
      "   \"cell_type\": \"code\",\r\n",
      "   \"execution_count\": 18,\r\n",
      "   \"metadata\": {\r\n",
      "    \"collapsed\": true\r\n",
      "   },\r\n",
      "   \"outputs\": [],\r\n",
      "   \"source\": [\r\n",
      "    \"filename = \\\"./Intro Notebook.ipynb\\\"\"\r\n",
      "   ]\r\n",
      "  },\r\n",
      "  {\r\n",
      "   \"cell_type\": \"code\",\r\n",
      "   \"execution_count\": 19,\r\n",
      "   \"metadata\": {},\r\n",
      "   \"outputs\": [\r\n",
      "    {\r\n",
      "     \"name\": \"stdout\",\r\n",
      "     \"output_type\": \"stream\",\r\n",
      "     \"text\": [\r\n",
      "      \"head: ./Intro: No such file or directory\\r\\n\",\r\n",
      "      \"head: Notebook.ipynb: No such file or directory\\r\\n\"\r\n",
      "     ]\r\n",
      "    }\r\n",
      "   ],\r\n",
      "   \"source\": [\r\n",
      "    \"!head -n 3 $filename\"\r\n",
      "   ]\r\n",
      "  },\r\n",
      "  {\r\n",
      "   \"cell_type\": \"code\",\r\n",
      "   \"execution_count\": 20,\r\n",
      "   \"metadata\": {},\r\n",
      "   \"outputs\": [\r\n",
      "    {\r\n",
      "     \"name\": \"stdout\",\r\n",
      "     \"output_type\": \"stream\",\r\n",
      "     \"text\": [\r\n",
      "      \"{\\r\\n\",\r\n",
      "      \" \\\"cells\\\": [\\r\\n\",\r\n",
      "      \"  {\\r\\n\"\r\n",
      "     ]\r\n",
      "    }\r\n",
      "   ],\r\n",
      "   \"source\": [\r\n",
      "    \"!head -n 3 \\\"Intro Notebook.ipynb\\\"\"\r\n",
      "   ]\r\n",
      "  },\r\n",
      "  {\r\n",
      "   \"cell_type\": \"code\",\r\n",
      "   \"execution_count\": 21,\r\n",
      "   \"metadata\": {},\r\n",
      "   \"outputs\": [\r\n",
      "    {\r\n",
      "     \"name\": \"stdout\",\r\n",
      "     \"output_type\": \"stream\",\r\n",
      "     \"text\": [\r\n",
      "      \"head: filename: No such file or directory\\r\\n\"\r\n",
      "     ]\r\n",
      "    }\r\n",
      "   ],\r\n",
      "   \"source\": [\r\n",
      "    \"!head -n 3 filename\"\r\n",
      "   ]\r\n",
      "  },\r\n",
      "  {\r\n",
      "   \"cell_type\": \"code\",\r\n",
      "   \"execution_count\": 22,\r\n",
      "   \"metadata\": {},\r\n",
      "   \"outputs\": [\r\n",
      "    {\r\n",
      "     \"name\": \"stdout\",\r\n",
      "     \"output_type\": \"stream\",\r\n",
      "     \"text\": [\r\n",
      "      \"Intro Notebook.ipynb\\r\\n\"\r\n",
      "     ]\r\n",
      "    }\r\n",
      "   ],\r\n",
      "   \"source\": [\r\n",
      "    \"!ls .\\n\"\r\n",
      "   ]\r\n",
      "  },\r\n",
      "  {\r\n",
      "   \"cell_type\": \"code\",\r\n",
      "   \"execution_count\": 23,\r\n",
      "   \"metadata\": {\r\n",
      "    \"collapsed\": true\r\n",
      "   },\r\n",
      "   \"outputs\": [],\r\n",
      "   \"source\": [\r\n",
      "    \"filename=\\\"./Intro Notebook.ipynb\\\"\"\r\n",
      "   ]\r\n",
      "  },\r\n",
      "  {\r\n",
      "   \"cell_type\": \"code\",\r\n",
      "   \"execution_count\": 24,\r\n",
      "   \"metadata\": {},\r\n",
      "   \"outputs\": [\r\n",
      "    {\r\n",
      "     \"name\": \"stdout\",\r\n",
      "     \"output_type\": \"stream\",\r\n",
      "     \"text\": [\r\n",
      "      \"./Intro Notebook.ipynb\\n\"\r\n",
      "     ]\r\n",
      "    }\r\n",
      "   ],\r\n",
      "   \"source\": [\r\n",
      "    \"print(filename)\"\r\n",
      "   ]\r\n",
      "  },\r\n",
      "  {\r\n",
      "   \"cell_type\": \"code\",\r\n",
      "   \"execution_count\": 25,\r\n",
      "   \"metadata\": {},\r\n",
      "   \"outputs\": [\r\n",
      "    {\r\n",
      "     \"name\": \"stdout\",\r\n",
      "     \"output_type\": \"stream\",\r\n",
      "     \"text\": [\r\n",
      "      \"head: ./Intro: No such file or directory\\r\\n\",\r\n",
      "      \"head: Notebook.ipynb: No such file or directory\\r\\n\"\r\n",
      "     ]\r\n",
      "    }\r\n",
      "   ],\r\n",
      "   \"source\": [\r\n",
      "    \"!head -n 3 $filename\"\r\n",
      "   ]\r\n",
      "  },\r\n",
      "  {\r\n",
      "   \"cell_type\": \"code\",\r\n",
      "   \"execution_count\": 28,\r\n",
      "   \"metadata\": {\r\n",
      "    \"collapsed\": true\r\n",
      "   },\r\n",
      "   \"outputs\": [],\r\n",
      "   \"source\": [\r\n",
      "    \"filename = \\\"'./Intro Notebook.ipynb'\\\"\\n\"\r\n",
      "   ]\r\n",
      "  },\r\n",
      "  {\r\n",
      "   \"cell_type\": \"code\",\r\n",
      "   \"execution_count\": 29,\r\n",
      "   \"metadata\": {},\r\n",
      "   \"outputs\": [\r\n",
      "    {\r\n",
      "     \"name\": \"stdout\",\r\n",
      "     \"output_type\": \"stream\",\r\n",
      "     \"text\": [\r\n",
      "      \"{\\r\\n\",\r\n",
      "      \" \\\"cells\\\": [\\r\\n\",\r\n",
      "      \"  {\\r\\n\"\r\n",
      "     ]\r\n",
      "    }\r\n",
      "   ],\r\n",
      "   \"source\": [\r\n",
      "    \"!head -n 3 $filename\"\r\n",
      "   ]\r\n",
      "  },\r\n",
      "  {\r\n",
      "   \"cell_type\": \"code\",\r\n",
      "   \"execution_count\": 30,\r\n",
      "   \"metadata\": {},\r\n",
      "   \"outputs\": [\r\n",
      "    {\r\n",
      "     \"name\": \"stdout\",\r\n",
      "     \"output_type\": \"stream\",\r\n",
      "     \"text\": [\r\n",
      "      \"   \\\"execution_count\\\": null,\\r\\n\",\r\n",
      "      \"   \\\"metadata\\\": {\\r\\n\",\r\n",
      "      \"    \\\"collapsed\\\": true\\r\\n\",\r\n",
      "      \"   },\\r\\n\",\r\n",
      "      \"   \\\"outputs\\\": [],\\r\\n\",\r\n",
      "      \"   \\\"source\\\": []\\r\\n\",\r\n",
      "      \"  }\\r\\n\",\r\n",
      "      \" ],\\r\\n\",\r\n",
      "      \" \\\"metadata\\\": {\\r\\n\",\r\n",
      "      \"  \\\"kernelspec\\\": {\\r\\n\",\r\n",
      "      \"   \\\"display_name\\\": \\\"Python 3\\\",\\r\\n\",\r\n",
      "      \"   \\\"language\\\": \\\"python\\\",\\r\\n\",\r\n",
      "      \"   \\\"name\\\": \\\"python3\\\"\\r\\n\",\r\n",
      "      \"  },\\r\\n\",\r\n",
      "      \"  \\\"language_info\\\": {\\r\\n\",\r\n",
      "      \"   \\\"codemirror_mode\\\": {\\r\\n\",\r\n",
      "      \"    \\\"name\\\": \\\"ipython\\\",\\r\\n\",\r\n",
      "      \"    \\\"version\\\": 3\\r\\n\",\r\n",
      "      \"   },\\r\\n\",\r\n",
      "      \"   \\\"file_extension\\\": \\\".py\\\",\\r\\n\",\r\n",
      "      \"   \\\"mimetype\\\": \\\"text/x-python\\\",\\r\\n\",\r\n",
      "      \"   \\\"name\\\": \\\"python\\\",\\r\\n\",\r\n",
      "      \"   \\\"nbconvert_exporter\\\": \\\"python\\\",\\r\\n\",\r\n",
      "      \"   \\\"pygments_lexer\\\": \\\"ipython3\\\",\\r\\n\",\r\n",
      "      \"   \\\"version\\\": \\\"3.6.2\\\"\\r\\n\",\r\n",
      "      \"  }\\r\\n\",\r\n",
      "      \" },\\r\\n\",\r\n",
      "      \" \\\"nbformat\\\": 4,\\r\\n\",\r\n",
      "      \" \\\"nbformat_minor\\\": 2\\r\\n\",\r\n",
      "      \"}\\r\\n\"\r\n",
      "     ]\r\n",
      "    }\r\n",
      "   ],\r\n",
      "   \"source\": [\r\n",
      "    \"!tail -n 30 $filename\"\r\n",
      "   ]\r\n",
      "  },\r\n",
      "  {\r\n",
      "   \"cell_type\": \"code\",\r\n",
      "   \"execution_count\": 31,\r\n",
      "   \"metadata\": {},\r\n",
      "   \"outputs\": [\r\n",
      "    {\r\n",
      "     \"name\": \"stdout\",\r\n",
      "     \"output_type\": \"stream\",\r\n",
      "     \"text\": [\r\n",
      "      \"     556    1029   27920 ./Intro Notebook.ipynb\\r\\n\"\r\n",
      "     ]\r\n",
      "    }\r\n",
      "   ],\r\n",
      "   \"source\": [\r\n",
      "    \"!wc $filename\"\r\n",
      "   ]\r\n",
      "  },\r\n",
      "  {\r\n",
      "   \"cell_type\": \"code\",\r\n",
      "   \"execution_count\": 32,\r\n",
      "   \"metadata\": {\r\n",
      "    \"collapsed\": true\r\n",
      "   },\r\n",
      "   \"outputs\": [],\r\n",
      "   \"source\": [\r\n",
      "    \"!grep -i 'jupyter' $filename\"\r\n",
      "   ]\r\n",
      "  },\r\n",
      "  {\r\n",
      "   \"cell_type\": \"code\",\r\n",
      "   \"execution_count\": null,\r\n",
      "   \"metadata\": {\r\n",
      "    \"collapsed\": true\r\n",
      "   },\r\n",
      "   \"outputs\": [],\r\n",
      "   \"source\": []\r\n",
      "  }\r\n",
      " ],\r\n",
      " \"metadata\": {\r\n",
      "  \"kernelspec\": {\r\n",
      "   \"display_name\": \"Python 3\",\r\n",
      "   \"language\": \"python\",\r\n",
      "   \"name\": \"python3\"\r\n",
      "  },\r\n",
      "  \"language_info\": {\r\n",
      "   \"codemirror_mode\": {\r\n",
      "    \"name\": \"ipython\",\r\n",
      "    \"version\": 3\r\n",
      "   },\r\n",
      "   \"file_extension\": \".py\",\r\n",
      "   \"mimetype\": \"text/x-python\",\r\n",
      "   \"name\": \"python\",\r\n",
      "   \"nbconvert_exporter\": \"python\",\r\n",
      "   \"pygments_lexer\": \"ipython3\",\r\n",
      "   \"version\": \"3.6.2\"\r\n",
      "  }\r\n",
      " },\r\n",
      " \"nbformat\": 4,\r\n",
      " \"nbformat_minor\": 2\r\n",
      "}\r\n"
     ]
    }
   ],
   "source": [
    "!cat $filename"
   ]
  },
  {
   "cell_type": "markdown",
   "metadata": {},
   "source": [
    "**word**"
   ]
  },
  {
   "cell_type": "code",
   "execution_count": 35,
   "metadata": {},
   "outputs": [
    {
     "ename": "SyntaxError",
     "evalue": "invalid syntax (<ipython-input-35-aad7228840c1>, line 1)",
     "output_type": "error",
     "traceback": [
      "\u001b[0;36m  File \u001b[0;32m\"<ipython-input-35-aad7228840c1>\"\u001b[0;36m, line \u001b[0;32m1\u001b[0m\n\u001b[0;31m    *word*\u001b[0m\n\u001b[0m          ^\u001b[0m\n\u001b[0;31mSyntaxError\u001b[0m\u001b[0;31m:\u001b[0m invalid syntax\n"
     ]
    }
   ],
   "source": []
  },
  {
   "cell_type": "code",
   "execution_count": null,
   "metadata": {
    "collapsed": true
   },
   "outputs": [],
   "source": []
  }
 ],
 "metadata": {
  "kernelspec": {
   "display_name": "Python 3",
   "language": "python",
   "name": "python3"
  },
  "language_info": {
   "codemirror_mode": {
    "name": "ipython",
    "version": 3
   },
   "file_extension": ".py",
   "mimetype": "text/x-python",
   "name": "python",
   "nbconvert_exporter": "python",
   "pygments_lexer": "ipython3",
   "version": "3.6.2"
  }
 },
 "nbformat": 4,
 "nbformat_minor": 2
}
